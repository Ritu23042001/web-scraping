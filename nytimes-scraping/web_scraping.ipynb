{
  "metadata": {
    "language_info": {
      "codemirror_mode": {
        "name": "python",
        "version": 3
      },
      "file_extension": ".py",
      "mimetype": "text/x-python",
      "name": "python",
      "nbconvert_exporter": "python",
      "pygments_lexer": "ipython3",
      "version": "3.8"
    },
    "kernelspec": {
      "name": "python",
      "display_name": "Python (Pyodide)",
      "language": "python"
    }
  },
  "nbformat_minor": 4,
  "nbformat": 4,
  "cells": [
    {
      "cell_type": "code",
      "source": "from bs4 import BeautifulSoup",
      "metadata": {
        "trusted": true
      },
      "execution_count": 1,
      "outputs": []
    },
    {
      "cell_type": "code",
      "source": "with open('manual.html', 'r') as f:\n    page = f.read()",
      "metadata": {
        "trusted": true
      },
      "execution_count": 2,
      "outputs": []
    },
    {
      "cell_type": "code",
      "source": "soup = BeautifulSoup(page, 'html.parser')",
      "metadata": {
        "trusted": true
      },
      "execution_count": 3,
      "outputs": []
    },
    {
      "cell_type": "code",
      "source": "results = soup.select('article h3[itemprop=\"name\"]')",
      "metadata": {
        "trusted": true
      },
      "execution_count": 4,
      "outputs": []
    },
    {
      "cell_type": "code",
      "source": "type(results)",
      "metadata": {
        "trusted": true
      },
      "execution_count": 5,
      "outputs": [
        {
          "execution_count": 5,
          "output_type": "execute_result",
          "data": {
            "text/plain": "bs4.element.ResultSet"
          },
          "metadata": {}
        }
      ]
    },
    {
      "cell_type": "code",
      "source": "results[0].text",
      "metadata": {
        "trusted": true
      },
      "execution_count": 6,
      "outputs": [
        {
          "execution_count": 6,
          "output_type": "execute_result",
          "data": {
            "text/plain": "'WHERE THE CRAWDADS SING'"
          },
          "metadata": {}
        }
      ]
    },
    {
      "cell_type": "code",
      "source": "titles = [r.text for r in results]\ntitles",
      "metadata": {
        "trusted": true
      },
      "execution_count": 7,
      "outputs": [
        {
          "execution_count": 7,
          "output_type": "execute_result",
          "data": {
            "text/plain": "['WHERE THE CRAWDADS SING',\n 'IT ENDS WITH US',\n 'VERITY',\n 'UGLY LOVE',\n 'THE SEVEN HUSBANDS OF EVELYN HUGO',\n 'NOVEMBER 9',\n 'ALL YOUR PERFECTS',\n 'THE 6:20 MAN',\n 'BOOK LOVERS',\n 'EVERY SUMMER AFTER',\n 'PEOPLE WE MEET ON VACATION',\n 'HEAT 2',\n 'THE SILENT PATIENT',\n 'MAYBE SOMEDAY',\n 'THE FAMILY REMAINS']"
          },
          "metadata": {}
        }
      ]
    },
    {
      "cell_type": "code",
      "source": "results = soup.select('article p[itemprop =\"author\"]')",
      "metadata": {
        "trusted": true
      },
      "execution_count": 8,
      "outputs": []
    },
    {
      "cell_type": "code",
      "source": "authors = [r.text for r in results]\nauthors",
      "metadata": {
        "trusted": true
      },
      "execution_count": 9,
      "outputs": [
        {
          "execution_count": 9,
          "output_type": "execute_result",
          "data": {
            "text/plain": "['by Delia Owens',\n 'by Colleen Hoover',\n 'by Colleen Hoover',\n 'by Colleen Hoover',\n 'by Taylor Jenkins Reid',\n 'by Colleen Hoover',\n 'by Colleen Hoover',\n 'by David Baldacci',\n 'by Emily Henry',\n 'by Carley Fortune',\n 'by Emily Henry',\n 'by Michael Mann and Meg Gardiner',\n 'by Alex Michaelides',\n 'by Colleen Hoover',\n 'by Lisa Jewell']"
          },
          "metadata": {}
        }
      ]
    },
    {
      "cell_type": "code",
      "source": "results = soup.select('article img[itemprop = \"image\"]')",
      "metadata": {
        "trusted": true
      },
      "execution_count": 10,
      "outputs": []
    },
    {
      "cell_type": "code",
      "source": "images = [r[\"src\"] for r in results]\nimages",
      "metadata": {
        "trusted": true
      },
      "execution_count": 11,
      "outputs": [
        {
          "execution_count": 11,
          "output_type": "execute_result",
          "data": {
            "text/plain": "['https://storage.googleapis.com/du-prd/books/images/9780735219090.jpg',\n 'https://storage.googleapis.com/du-prd/books/images/9781501110375.jpg',\n 'https://storage.googleapis.com/du-prd/books/images/9781791392796.jpg',\n 'https://storage.googleapis.com/du-prd/books/images/9781476753195.jpg',\n 'https://storage.googleapis.com/du-prd/books/images/9781501161933.jpg',\n 'https://storage.googleapis.com/du-prd/books/images/9781501110351.jpg',\n 'https://storage.googleapis.com/du-prd/books/images/9781501171604.jpg',\n 'https://storage.googleapis.com/du-prd/books/images/9781538719848.jpg',\n 'https://storage.googleapis.com/du-prd/books/images/9780593334836.jpg',\n 'https://storage.googleapis.com/du-prd/books/images/9780593438534.jpg',\n 'https://storage.googleapis.com/du-prd/books/images/9781984806758.jpg',\n 'https://storage.googleapis.com/du-prd/books/images/9780062653314.jpg',\n 'https://storage.googleapis.com/du-prd/books/images/9781250301697.jpg',\n 'https://storage.googleapis.com/du-prd/books/images/9781476753171.jpg',\n 'https://storage.googleapis.com/du-prd/books/images/9781982178895.jpg']"
          },
          "metadata": {}
        }
      ]
    },
    {
      "cell_type": "code",
      "source": "book_info = list(zip(titles, authors, images))",
      "metadata": {
        "trusted": true
      },
      "execution_count": 12,
      "outputs": []
    },
    {
      "cell_type": "code",
      "source": "def get_book_info(page):\n    soup = BeautifulSoup(page, 'html.parser')\n    results = soup.select('article h3[itemprop=\"name\"]')\n    titles = [r.text for r in results]\n    \n    results = soup.select('article p[itemprop=\"author\"]')\n    authors = [r.text for r in results]\n    \n    results = soup.select('article img[itemprop=\"image\"]')\n    images = [r[\"src\"] for r in results]\n    \n    return list(zip(titles, authors, images))",
      "metadata": {
        "trusted": true
      },
      "execution_count": 13,
      "outputs": []
    },
    {
      "cell_type": "code",
      "source": "get_book_info(page)",
      "metadata": {
        "trusted": true
      },
      "execution_count": 14,
      "outputs": [
        {
          "execution_count": 14,
          "output_type": "execute_result",
          "data": {
            "text/plain": "[('WHERE THE CRAWDADS SING',\n  'by Delia Owens',\n  'https://storage.googleapis.com/du-prd/books/images/9780735219090.jpg'),\n ('IT ENDS WITH US',\n  'by Colleen Hoover',\n  'https://storage.googleapis.com/du-prd/books/images/9781501110375.jpg'),\n ('VERITY',\n  'by Colleen Hoover',\n  'https://storage.googleapis.com/du-prd/books/images/9781791392796.jpg'),\n ('UGLY LOVE',\n  'by Colleen Hoover',\n  'https://storage.googleapis.com/du-prd/books/images/9781476753195.jpg'),\n ('THE SEVEN HUSBANDS OF EVELYN HUGO',\n  'by Taylor Jenkins Reid',\n  'https://storage.googleapis.com/du-prd/books/images/9781501161933.jpg'),\n ('NOVEMBER 9',\n  'by Colleen Hoover',\n  'https://storage.googleapis.com/du-prd/books/images/9781501110351.jpg'),\n ('ALL YOUR PERFECTS',\n  'by Colleen Hoover',\n  'https://storage.googleapis.com/du-prd/books/images/9781501171604.jpg'),\n ('THE 6:20 MAN',\n  'by David Baldacci',\n  'https://storage.googleapis.com/du-prd/books/images/9781538719848.jpg'),\n ('BOOK LOVERS',\n  'by Emily Henry',\n  'https://storage.googleapis.com/du-prd/books/images/9780593334836.jpg'),\n ('EVERY SUMMER AFTER',\n  'by Carley Fortune',\n  'https://storage.googleapis.com/du-prd/books/images/9780593438534.jpg'),\n ('PEOPLE WE MEET ON VACATION',\n  'by Emily Henry',\n  'https://storage.googleapis.com/du-prd/books/images/9781984806758.jpg'),\n ('HEAT 2',\n  'by Michael Mann and Meg Gardiner',\n  'https://storage.googleapis.com/du-prd/books/images/9780062653314.jpg'),\n ('THE SILENT PATIENT',\n  'by Alex Michaelides',\n  'https://storage.googleapis.com/du-prd/books/images/9781250301697.jpg'),\n ('MAYBE SOMEDAY',\n  'by Colleen Hoover',\n  'https://storage.googleapis.com/du-prd/books/images/9781476753171.jpg'),\n ('THE FAMILY REMAINS',\n  'by Lisa Jewell',\n  'https://storage.googleapis.com/du-prd/books/images/9781982178895.jpg')]"
          },
          "metadata": {}
        }
      ]
    },
    {
      "cell_type": "code",
      "source": "with open(\"all_articles.html\", \"r\") as f:\n    page = f.read()\nget_book_info(page)",
      "metadata": {
        "trusted": true
      },
      "execution_count": 16,
      "outputs": [
        {
          "execution_count": 16,
          "output_type": "execute_result",
          "data": {
            "text/plain": "[('WHERE THE CRAWDADS SING',\n  'by Delia Owens',\n  'https://storage.googleapis.com/du-prd/books/images/9780735219090.jpg'),\n ('IT ENDS WITH US',\n  'by Colleen Hoover',\n  'https://storage.googleapis.com/du-prd/books/images/9781501110375.jpg'),\n ('VERITY',\n  'by Colleen Hoover',\n  'https://storage.googleapis.com/du-prd/books/images/9781791392796.jpg'),\n ('UGLY LOVE',\n  'by Colleen Hoover',\n  'https://storage.googleapis.com/du-prd/books/images/9781476753195.jpg'),\n ('THE SEVEN HUSBANDS OF EVELYN HUGO',\n  'by Taylor Jenkins Reid',\n  'https://storage.googleapis.com/du-prd/books/images/9781501161933.jpg'),\n ('NOVEMBER 9',\n  'by Colleen Hoover',\n  'https://storage.googleapis.com/du-prd/books/images/9781501110351.jpg'),\n ('ALL YOUR PERFECTS',\n  'by Colleen Hoover',\n  'https://storage.googleapis.com/du-prd/books/images/9781501171604.jpg'),\n ('THE 6:20 MAN',\n  'by David Baldacci',\n  'https://storage.googleapis.com/du-prd/books/images/9781538719848.jpg'),\n ('BOOK LOVERS',\n  'by Emily Henry',\n  'https://storage.googleapis.com/du-prd/books/images/9780593334836.jpg'),\n ('EVERY SUMMER AFTER',\n  'by Carley Fortune',\n  'https://storage.googleapis.com/du-prd/books/images/9780593438534.jpg'),\n ('PEOPLE WE MEET ON VACATION',\n  'by Emily Henry',\n  'https://storage.googleapis.com/du-prd/books/images/9781984806758.jpg'),\n ('HEAT 2',\n  'by Michael Mann and Meg Gardiner',\n  'https://storage.googleapis.com/du-prd/books/images/9780062653314.jpg'),\n ('THE SILENT PATIENT',\n  'by Alex Michaelides',\n  'https://storage.googleapis.com/du-prd/books/images/9781250301697.jpg'),\n ('MAYBE SOMEDAY',\n  'by Colleen Hoover',\n  'https://storage.googleapis.com/du-prd/books/images/9781476753171.jpg'),\n ('THE FAMILY REMAINS',\n  'by Lisa Jewell',\n  'https://storage.googleapis.com/du-prd/books/images/9781982178895.jpg'),\n ('WHERE THE CRAWDADS SING',\n  'by Delia Owens',\n  'https://storage.googleapis.com/du-prd/books/images/9780735219090.jpg'),\n ('IT ENDS WITH US',\n  'by Colleen Hoover',\n  'https://storage.googleapis.com/du-prd/books/images/9781501110375.jpg'),\n ('VERITY',\n  'by Colleen Hoover',\n  'https://storage.googleapis.com/du-prd/books/images/9781791392796.jpg'),\n ('UGLY LOVE',\n  'by Colleen Hoover',\n  'https://storage.googleapis.com/du-prd/books/images/9781476753195.jpg'),\n ('THE SEVEN HUSBANDS OF EVELYN HUGO',\n  'by Taylor Jenkins Reid',\n  'https://storage.googleapis.com/du-prd/books/images/9781501161933.jpg'),\n ('NOVEMBER 9',\n  'by Colleen Hoover',\n  'https://storage.googleapis.com/du-prd/books/images/9781501110351.jpg'),\n ('RECKONING',\n  'by Catherine Coulter',\n  'https://storage.googleapis.com/du-prd/books/images/9780063004139.jpg'),\n ('THE 6:20 MAN',\n  'by David Baldacci',\n  'https://storage.googleapis.com/du-prd/books/images/9781538719848.jpg'),\n ('EVERY SUMMER AFTER',\n  'by Carley Fortune',\n  'https://storage.googleapis.com/du-prd/books/images/9780593438534.jpg'),\n ('BLACK DOG',\n  'by Stuart Woods',\n  'https://storage.googleapis.com/du-prd/books/images/9780593540008.jpg'),\n ('ALL YOUR PERFECTS',\n  'by Colleen Hoover',\n  'https://storage.googleapis.com/du-prd/books/images/9781501171604.jpg'),\n ('BOOK LOVERS',\n  'by Emily Henry',\n  'https://storage.googleapis.com/du-prd/books/images/9780593334836.jpg'),\n ('PORTRAIT OF AN UNKNOWN WOMAN',\n  'by Daniel Silva',\n  'https://storage.googleapis.com/du-prd/books/images/9780062834850.jpg'),\n ('CONFESS',\n  'by Colleen Hoover',\n  'https://storage.googleapis.com/du-prd/books/images/9781476791463.jpg'),\n ('THE SILENT PATIENT',\n  'by Alex Michaelides',\n  'https://storage.googleapis.com/du-prd/books/images/9781250301697.jpg'),\n ('WHERE THE CRAWDADS SING',\n  'by Delia Owens',\n  'https://storage.googleapis.com/du-prd/books/images/9780735219090.jpg'),\n ('IT ENDS WITH US',\n  'by Colleen Hoover',\n  'https://storage.googleapis.com/du-prd/books/images/9781501110375.jpg'),\n ('VERITY',\n  'by Colleen Hoover',\n  'https://storage.googleapis.com/du-prd/books/images/9781791392796.jpg'),\n ('UGLY LOVE',\n  'by Colleen Hoover',\n  'https://storage.googleapis.com/du-prd/books/images/9781476753195.jpg'),\n ('THE SEVEN HUSBANDS OF EVELYN HUGO',\n  'by Taylor Jenkins Reid',\n  'https://storage.googleapis.com/du-prd/books/images/9781501161933.jpg'),\n ('NOVEMBER 9',\n  'by Colleen Hoover',\n  'https://storage.googleapis.com/du-prd/books/images/9781501110351.jpg'),\n ('THE 6:20 MAN',\n  'by David Baldacci',\n  'https://storage.googleapis.com/du-prd/books/images/9781538719848.jpg'),\n ('BOOK LOVERS',\n  'by Emily Henry',\n  'https://storage.googleapis.com/du-prd/books/images/9780593334836.jpg'),\n ('PORTRAIT OF AN UNKNOWN WOMAN',\n  'by Daniel Silva',\n  'https://storage.googleapis.com/du-prd/books/images/9780062834850.jpg'),\n ('EVERY SUMMER AFTER',\n  'by Carley Fortune',\n  'https://storage.googleapis.com/du-prd/books/images/9780593438534.jpg'),\n ('THE HOTEL NANTUCKET',\n  'by Elin Hilderbrand',\n  'https://storage.googleapis.com/du-prd/books/images/9780316258678.jpg'),\n ('ALL YOUR PERFECTS',\n  'by Colleen Hoover',\n  'https://storage.googleapis.com/du-prd/books/images/9781501171604.jpg'),\n ('THE IT GIRL',\n  'by Ruth Ware',\n  'https://storage.googleapis.com/du-prd/books/images/9781982155261.jpg'),\n ('SHATTERED',\n  'by James Patterson and James O. Born',\n  'https://storage.googleapis.com/du-prd/books/images/9780316499484.jpg'),\n ('PEOPLE WE MEET ON VACATION',\n  'by Emily Henry',\n  'https://storage.googleapis.com/du-prd/books/images/9781984806758.jpg')]"
          },
          "metadata": {}
        }
      ]
    },
    {
      "cell_type": "markdown",
      "source": "First way of working with the scraped data in python",
      "metadata": {}
    },
    {
      "cell_type": "code",
      "source": "from IPython.display import Image, display",
      "metadata": {
        "trusted": true
      },
      "execution_count": 17,
      "outputs": []
    },
    {
      "cell_type": "code",
      "source": "book_info = get_book_info(page)\nfor book in book_info:\n    print(book[0])\n    print(book[1])\n    display(Image(url = book[2], width = 50))",
      "metadata": {
        "trusted": true
      },
      "execution_count": 18,
      "outputs": [
        {
          "name": "stdout",
          "text": "WHERE THE CRAWDADS SING\nby Delia Owens\n",
          "output_type": "stream"
        },
        {
          "output_type": "display_data",
          "data": {
            "text/html": "<img src=\"https://storage.googleapis.com/du-prd/books/images/9780735219090.jpg\" width=\"50\"/>",
            "text/plain": "<IPython.core.display.Image object>"
          },
          "metadata": {}
        },
        {
          "name": "stdout",
          "text": "IT ENDS WITH US\nby Colleen Hoover\n",
          "output_type": "stream"
        },
        {
          "output_type": "display_data",
          "data": {
            "text/html": "<img src=\"https://storage.googleapis.com/du-prd/books/images/9781501110375.jpg\" width=\"50\"/>",
            "text/plain": "<IPython.core.display.Image object>"
          },
          "metadata": {}
        },
        {
          "name": "stdout",
          "text": "VERITY\nby Colleen Hoover\n",
          "output_type": "stream"
        },
        {
          "output_type": "display_data",
          "data": {
            "text/html": "<img src=\"https://storage.googleapis.com/du-prd/books/images/9781791392796.jpg\" width=\"50\"/>",
            "text/plain": "<IPython.core.display.Image object>"
          },
          "metadata": {}
        },
        {
          "name": "stdout",
          "text": "UGLY LOVE\nby Colleen Hoover\n",
          "output_type": "stream"
        },
        {
          "output_type": "display_data",
          "data": {
            "text/html": "<img src=\"https://storage.googleapis.com/du-prd/books/images/9781476753195.jpg\" width=\"50\"/>",
            "text/plain": "<IPython.core.display.Image object>"
          },
          "metadata": {}
        },
        {
          "name": "stdout",
          "text": "THE SEVEN HUSBANDS OF EVELYN HUGO\nby Taylor Jenkins Reid\n",
          "output_type": "stream"
        },
        {
          "output_type": "display_data",
          "data": {
            "text/html": "<img src=\"https://storage.googleapis.com/du-prd/books/images/9781501161933.jpg\" width=\"50\"/>",
            "text/plain": "<IPython.core.display.Image object>"
          },
          "metadata": {}
        },
        {
          "name": "stdout",
          "text": "NOVEMBER 9\nby Colleen Hoover\n",
          "output_type": "stream"
        },
        {
          "output_type": "display_data",
          "data": {
            "text/html": "<img src=\"https://storage.googleapis.com/du-prd/books/images/9781501110351.jpg\" width=\"50\"/>",
            "text/plain": "<IPython.core.display.Image object>"
          },
          "metadata": {}
        },
        {
          "name": "stdout",
          "text": "ALL YOUR PERFECTS\nby Colleen Hoover\n",
          "output_type": "stream"
        },
        {
          "output_type": "display_data",
          "data": {
            "text/html": "<img src=\"https://storage.googleapis.com/du-prd/books/images/9781501171604.jpg\" width=\"50\"/>",
            "text/plain": "<IPython.core.display.Image object>"
          },
          "metadata": {}
        },
        {
          "name": "stdout",
          "text": "THE 6:20 MAN\nby David Baldacci\n",
          "output_type": "stream"
        },
        {
          "output_type": "display_data",
          "data": {
            "text/html": "<img src=\"https://storage.googleapis.com/du-prd/books/images/9781538719848.jpg\" width=\"50\"/>",
            "text/plain": "<IPython.core.display.Image object>"
          },
          "metadata": {}
        },
        {
          "name": "stdout",
          "text": "BOOK LOVERS\nby Emily Henry\n",
          "output_type": "stream"
        },
        {
          "output_type": "display_data",
          "data": {
            "text/html": "<img src=\"https://storage.googleapis.com/du-prd/books/images/9780593334836.jpg\" width=\"50\"/>",
            "text/plain": "<IPython.core.display.Image object>"
          },
          "metadata": {}
        },
        {
          "name": "stdout",
          "text": "EVERY SUMMER AFTER\nby Carley Fortune\n",
          "output_type": "stream"
        },
        {
          "output_type": "display_data",
          "data": {
            "text/html": "<img src=\"https://storage.googleapis.com/du-prd/books/images/9780593438534.jpg\" width=\"50\"/>",
            "text/plain": "<IPython.core.display.Image object>"
          },
          "metadata": {}
        },
        {
          "name": "stdout",
          "text": "PEOPLE WE MEET ON VACATION\nby Emily Henry\n",
          "output_type": "stream"
        },
        {
          "output_type": "display_data",
          "data": {
            "text/html": "<img src=\"https://storage.googleapis.com/du-prd/books/images/9781984806758.jpg\" width=\"50\"/>",
            "text/plain": "<IPython.core.display.Image object>"
          },
          "metadata": {}
        },
        {
          "name": "stdout",
          "text": "HEAT 2\nby Michael Mann and Meg Gardiner\n",
          "output_type": "stream"
        },
        {
          "output_type": "display_data",
          "data": {
            "text/html": "<img src=\"https://storage.googleapis.com/du-prd/books/images/9780062653314.jpg\" width=\"50\"/>",
            "text/plain": "<IPython.core.display.Image object>"
          },
          "metadata": {}
        },
        {
          "name": "stdout",
          "text": "THE SILENT PATIENT\nby Alex Michaelides\n",
          "output_type": "stream"
        },
        {
          "output_type": "display_data",
          "data": {
            "text/html": "<img src=\"https://storage.googleapis.com/du-prd/books/images/9781250301697.jpg\" width=\"50\"/>",
            "text/plain": "<IPython.core.display.Image object>"
          },
          "metadata": {}
        },
        {
          "name": "stdout",
          "text": "MAYBE SOMEDAY\nby Colleen Hoover\n",
          "output_type": "stream"
        },
        {
          "output_type": "display_data",
          "data": {
            "text/html": "<img src=\"https://storage.googleapis.com/du-prd/books/images/9781476753171.jpg\" width=\"50\"/>",
            "text/plain": "<IPython.core.display.Image object>"
          },
          "metadata": {}
        },
        {
          "name": "stdout",
          "text": "THE FAMILY REMAINS\nby Lisa Jewell\n",
          "output_type": "stream"
        },
        {
          "output_type": "display_data",
          "data": {
            "text/html": "<img src=\"https://storage.googleapis.com/du-prd/books/images/9781982178895.jpg\" width=\"50\"/>",
            "text/plain": "<IPython.core.display.Image object>"
          },
          "metadata": {}
        },
        {
          "name": "stdout",
          "text": "WHERE THE CRAWDADS SING\nby Delia Owens\n",
          "output_type": "stream"
        },
        {
          "output_type": "display_data",
          "data": {
            "text/html": "<img src=\"https://storage.googleapis.com/du-prd/books/images/9780735219090.jpg\" width=\"50\"/>",
            "text/plain": "<IPython.core.display.Image object>"
          },
          "metadata": {}
        },
        {
          "name": "stdout",
          "text": "IT ENDS WITH US\nby Colleen Hoover\n",
          "output_type": "stream"
        },
        {
          "output_type": "display_data",
          "data": {
            "text/html": "<img src=\"https://storage.googleapis.com/du-prd/books/images/9781501110375.jpg\" width=\"50\"/>",
            "text/plain": "<IPython.core.display.Image object>"
          },
          "metadata": {}
        },
        {
          "name": "stdout",
          "text": "VERITY\nby Colleen Hoover\n",
          "output_type": "stream"
        },
        {
          "output_type": "display_data",
          "data": {
            "text/html": "<img src=\"https://storage.googleapis.com/du-prd/books/images/9781791392796.jpg\" width=\"50\"/>",
            "text/plain": "<IPython.core.display.Image object>"
          },
          "metadata": {}
        },
        {
          "name": "stdout",
          "text": "UGLY LOVE\nby Colleen Hoover\n",
          "output_type": "stream"
        },
        {
          "output_type": "display_data",
          "data": {
            "text/html": "<img src=\"https://storage.googleapis.com/du-prd/books/images/9781476753195.jpg\" width=\"50\"/>",
            "text/plain": "<IPython.core.display.Image object>"
          },
          "metadata": {}
        },
        {
          "name": "stdout",
          "text": "THE SEVEN HUSBANDS OF EVELYN HUGO\nby Taylor Jenkins Reid\n",
          "output_type": "stream"
        },
        {
          "output_type": "display_data",
          "data": {
            "text/html": "<img src=\"https://storage.googleapis.com/du-prd/books/images/9781501161933.jpg\" width=\"50\"/>",
            "text/plain": "<IPython.core.display.Image object>"
          },
          "metadata": {}
        },
        {
          "name": "stdout",
          "text": "NOVEMBER 9\nby Colleen Hoover\n",
          "output_type": "stream"
        },
        {
          "output_type": "display_data",
          "data": {
            "text/html": "<img src=\"https://storage.googleapis.com/du-prd/books/images/9781501110351.jpg\" width=\"50\"/>",
            "text/plain": "<IPython.core.display.Image object>"
          },
          "metadata": {}
        },
        {
          "name": "stdout",
          "text": "RECKONING\nby Catherine Coulter\n",
          "output_type": "stream"
        },
        {
          "output_type": "display_data",
          "data": {
            "text/html": "<img src=\"https://storage.googleapis.com/du-prd/books/images/9780063004139.jpg\" width=\"50\"/>",
            "text/plain": "<IPython.core.display.Image object>"
          },
          "metadata": {}
        },
        {
          "name": "stdout",
          "text": "THE 6:20 MAN\nby David Baldacci\n",
          "output_type": "stream"
        },
        {
          "output_type": "display_data",
          "data": {
            "text/html": "<img src=\"https://storage.googleapis.com/du-prd/books/images/9781538719848.jpg\" width=\"50\"/>",
            "text/plain": "<IPython.core.display.Image object>"
          },
          "metadata": {}
        },
        {
          "name": "stdout",
          "text": "EVERY SUMMER AFTER\nby Carley Fortune\n",
          "output_type": "stream"
        },
        {
          "output_type": "display_data",
          "data": {
            "text/html": "<img src=\"https://storage.googleapis.com/du-prd/books/images/9780593438534.jpg\" width=\"50\"/>",
            "text/plain": "<IPython.core.display.Image object>"
          },
          "metadata": {}
        },
        {
          "name": "stdout",
          "text": "BLACK DOG\nby Stuart Woods\n",
          "output_type": "stream"
        },
        {
          "output_type": "display_data",
          "data": {
            "text/html": "<img src=\"https://storage.googleapis.com/du-prd/books/images/9780593540008.jpg\" width=\"50\"/>",
            "text/plain": "<IPython.core.display.Image object>"
          },
          "metadata": {}
        },
        {
          "name": "stdout",
          "text": "ALL YOUR PERFECTS\nby Colleen Hoover\n",
          "output_type": "stream"
        },
        {
          "output_type": "display_data",
          "data": {
            "text/html": "<img src=\"https://storage.googleapis.com/du-prd/books/images/9781501171604.jpg\" width=\"50\"/>",
            "text/plain": "<IPython.core.display.Image object>"
          },
          "metadata": {}
        },
        {
          "name": "stdout",
          "text": "BOOK LOVERS\nby Emily Henry\n",
          "output_type": "stream"
        },
        {
          "output_type": "display_data",
          "data": {
            "text/html": "<img src=\"https://storage.googleapis.com/du-prd/books/images/9780593334836.jpg\" width=\"50\"/>",
            "text/plain": "<IPython.core.display.Image object>"
          },
          "metadata": {}
        },
        {
          "name": "stdout",
          "text": "PORTRAIT OF AN UNKNOWN WOMAN\nby Daniel Silva\n",
          "output_type": "stream"
        },
        {
          "output_type": "display_data",
          "data": {
            "text/html": "<img src=\"https://storage.googleapis.com/du-prd/books/images/9780062834850.jpg\" width=\"50\"/>",
            "text/plain": "<IPython.core.display.Image object>"
          },
          "metadata": {}
        },
        {
          "name": "stdout",
          "text": "CONFESS\nby Colleen Hoover\n",
          "output_type": "stream"
        },
        {
          "output_type": "display_data",
          "data": {
            "text/html": "<img src=\"https://storage.googleapis.com/du-prd/books/images/9781476791463.jpg\" width=\"50\"/>",
            "text/plain": "<IPython.core.display.Image object>"
          },
          "metadata": {}
        },
        {
          "name": "stdout",
          "text": "THE SILENT PATIENT\nby Alex Michaelides\n",
          "output_type": "stream"
        },
        {
          "output_type": "display_data",
          "data": {
            "text/html": "<img src=\"https://storage.googleapis.com/du-prd/books/images/9781250301697.jpg\" width=\"50\"/>",
            "text/plain": "<IPython.core.display.Image object>"
          },
          "metadata": {}
        },
        {
          "name": "stdout",
          "text": "WHERE THE CRAWDADS SING\nby Delia Owens\n",
          "output_type": "stream"
        },
        {
          "output_type": "display_data",
          "data": {
            "text/html": "<img src=\"https://storage.googleapis.com/du-prd/books/images/9780735219090.jpg\" width=\"50\"/>",
            "text/plain": "<IPython.core.display.Image object>"
          },
          "metadata": {}
        },
        {
          "name": "stdout",
          "text": "IT ENDS WITH US\nby Colleen Hoover\n",
          "output_type": "stream"
        },
        {
          "output_type": "display_data",
          "data": {
            "text/html": "<img src=\"https://storage.googleapis.com/du-prd/books/images/9781501110375.jpg\" width=\"50\"/>",
            "text/plain": "<IPython.core.display.Image object>"
          },
          "metadata": {}
        },
        {
          "name": "stdout",
          "text": "VERITY\nby Colleen Hoover\n",
          "output_type": "stream"
        },
        {
          "output_type": "display_data",
          "data": {
            "text/html": "<img src=\"https://storage.googleapis.com/du-prd/books/images/9781791392796.jpg\" width=\"50\"/>",
            "text/plain": "<IPython.core.display.Image object>"
          },
          "metadata": {}
        },
        {
          "name": "stdout",
          "text": "UGLY LOVE\nby Colleen Hoover\n",
          "output_type": "stream"
        },
        {
          "output_type": "display_data",
          "data": {
            "text/html": "<img src=\"https://storage.googleapis.com/du-prd/books/images/9781476753195.jpg\" width=\"50\"/>",
            "text/plain": "<IPython.core.display.Image object>"
          },
          "metadata": {}
        },
        {
          "name": "stdout",
          "text": "THE SEVEN HUSBANDS OF EVELYN HUGO\nby Taylor Jenkins Reid\n",
          "output_type": "stream"
        },
        {
          "output_type": "display_data",
          "data": {
            "text/html": "<img src=\"https://storage.googleapis.com/du-prd/books/images/9781501161933.jpg\" width=\"50\"/>",
            "text/plain": "<IPython.core.display.Image object>"
          },
          "metadata": {}
        },
        {
          "name": "stdout",
          "text": "NOVEMBER 9\nby Colleen Hoover\n",
          "output_type": "stream"
        },
        {
          "output_type": "display_data",
          "data": {
            "text/html": "<img src=\"https://storage.googleapis.com/du-prd/books/images/9781501110351.jpg\" width=\"50\"/>",
            "text/plain": "<IPython.core.display.Image object>"
          },
          "metadata": {}
        },
        {
          "name": "stdout",
          "text": "THE 6:20 MAN\nby David Baldacci\n",
          "output_type": "stream"
        },
        {
          "output_type": "display_data",
          "data": {
            "text/html": "<img src=\"https://storage.googleapis.com/du-prd/books/images/9781538719848.jpg\" width=\"50\"/>",
            "text/plain": "<IPython.core.display.Image object>"
          },
          "metadata": {}
        },
        {
          "name": "stdout",
          "text": "BOOK LOVERS\nby Emily Henry\n",
          "output_type": "stream"
        },
        {
          "output_type": "display_data",
          "data": {
            "text/html": "<img src=\"https://storage.googleapis.com/du-prd/books/images/9780593334836.jpg\" width=\"50\"/>",
            "text/plain": "<IPython.core.display.Image object>"
          },
          "metadata": {}
        },
        {
          "name": "stdout",
          "text": "PORTRAIT OF AN UNKNOWN WOMAN\nby Daniel Silva\n",
          "output_type": "stream"
        },
        {
          "output_type": "display_data",
          "data": {
            "text/html": "<img src=\"https://storage.googleapis.com/du-prd/books/images/9780062834850.jpg\" width=\"50\"/>",
            "text/plain": "<IPython.core.display.Image object>"
          },
          "metadata": {}
        },
        {
          "name": "stdout",
          "text": "EVERY SUMMER AFTER\nby Carley Fortune\n",
          "output_type": "stream"
        },
        {
          "output_type": "display_data",
          "data": {
            "text/html": "<img src=\"https://storage.googleapis.com/du-prd/books/images/9780593438534.jpg\" width=\"50\"/>",
            "text/plain": "<IPython.core.display.Image object>"
          },
          "metadata": {}
        },
        {
          "name": "stdout",
          "text": "THE HOTEL NANTUCKET\nby Elin Hilderbrand\n",
          "output_type": "stream"
        },
        {
          "output_type": "display_data",
          "data": {
            "text/html": "<img src=\"https://storage.googleapis.com/du-prd/books/images/9780316258678.jpg\" width=\"50\"/>",
            "text/plain": "<IPython.core.display.Image object>"
          },
          "metadata": {}
        },
        {
          "name": "stdout",
          "text": "ALL YOUR PERFECTS\nby Colleen Hoover\n",
          "output_type": "stream"
        },
        {
          "output_type": "display_data",
          "data": {
            "text/html": "<img src=\"https://storage.googleapis.com/du-prd/books/images/9781501171604.jpg\" width=\"50\"/>",
            "text/plain": "<IPython.core.display.Image object>"
          },
          "metadata": {}
        },
        {
          "name": "stdout",
          "text": "THE IT GIRL\nby Ruth Ware\n",
          "output_type": "stream"
        },
        {
          "output_type": "display_data",
          "data": {
            "text/html": "<img src=\"https://storage.googleapis.com/du-prd/books/images/9781982155261.jpg\" width=\"50\"/>",
            "text/plain": "<IPython.core.display.Image object>"
          },
          "metadata": {}
        },
        {
          "name": "stdout",
          "text": "SHATTERED\nby James Patterson and James O. Born\n",
          "output_type": "stream"
        },
        {
          "output_type": "display_data",
          "data": {
            "text/html": "<img src=\"https://storage.googleapis.com/du-prd/books/images/9780316499484.jpg\" width=\"50\"/>",
            "text/plain": "<IPython.core.display.Image object>"
          },
          "metadata": {}
        },
        {
          "name": "stdout",
          "text": "PEOPLE WE MEET ON VACATION\nby Emily Henry\n",
          "output_type": "stream"
        },
        {
          "output_type": "display_data",
          "data": {
            "text/html": "<img src=\"https://storage.googleapis.com/du-prd/books/images/9781984806758.jpg\" width=\"50\"/>",
            "text/plain": "<IPython.core.display.Image object>"
          },
          "metadata": {}
        }
      ]
    },
    {
      "cell_type": "markdown",
      "source": "Another way:",
      "metadata": {}
    },
    {
      "cell_type": "code",
      "source": "import pandas as pd",
      "metadata": {
        "trusted": true
      },
      "execution_count": 19,
      "outputs": []
    },
    {
      "cell_type": "code",
      "source": "books_df = pd.DataFrame(book_info, columns = [\"title\", \"author\", \"cover_url\"])",
      "metadata": {
        "trusted": true
      },
      "execution_count": 20,
      "outputs": []
    },
    {
      "cell_type": "code",
      "source": "books_df",
      "metadata": {
        "trusted": true
      },
      "execution_count": 21,
      "outputs": [
        {
          "execution_count": 21,
          "output_type": "execute_result",
          "data": {
            "text/plain": "                                title                                author  \\\n0             WHERE THE CRAWDADS SING                        by Delia Owens   \n1                     IT ENDS WITH US                     by Colleen Hoover   \n2                              VERITY                     by Colleen Hoover   \n3                           UGLY LOVE                     by Colleen Hoover   \n4   THE SEVEN HUSBANDS OF EVELYN HUGO                by Taylor Jenkins Reid   \n5                          NOVEMBER 9                     by Colleen Hoover   \n6                   ALL YOUR PERFECTS                     by Colleen Hoover   \n7                        THE 6:20 MAN                     by David Baldacci   \n8                         BOOK LOVERS                        by Emily Henry   \n9                  EVERY SUMMER AFTER                     by Carley Fortune   \n10         PEOPLE WE MEET ON VACATION                        by Emily Henry   \n11                             HEAT 2      by Michael Mann and Meg Gardiner   \n12                 THE SILENT PATIENT                   by Alex Michaelides   \n13                      MAYBE SOMEDAY                     by Colleen Hoover   \n14                 THE FAMILY REMAINS                        by Lisa Jewell   \n15            WHERE THE CRAWDADS SING                        by Delia Owens   \n16                    IT ENDS WITH US                     by Colleen Hoover   \n17                             VERITY                     by Colleen Hoover   \n18                          UGLY LOVE                     by Colleen Hoover   \n19  THE SEVEN HUSBANDS OF EVELYN HUGO                by Taylor Jenkins Reid   \n20                         NOVEMBER 9                     by Colleen Hoover   \n21                          RECKONING                  by Catherine Coulter   \n22                       THE 6:20 MAN                     by David Baldacci   \n23                 EVERY SUMMER AFTER                     by Carley Fortune   \n24                          BLACK DOG                       by Stuart Woods   \n25                  ALL YOUR PERFECTS                     by Colleen Hoover   \n26                        BOOK LOVERS                        by Emily Henry   \n27       PORTRAIT OF AN UNKNOWN WOMAN                       by Daniel Silva   \n28                            CONFESS                     by Colleen Hoover   \n29                 THE SILENT PATIENT                   by Alex Michaelides   \n30            WHERE THE CRAWDADS SING                        by Delia Owens   \n31                    IT ENDS WITH US                     by Colleen Hoover   \n32                             VERITY                     by Colleen Hoover   \n33                          UGLY LOVE                     by Colleen Hoover   \n34  THE SEVEN HUSBANDS OF EVELYN HUGO                by Taylor Jenkins Reid   \n35                         NOVEMBER 9                     by Colleen Hoover   \n36                       THE 6:20 MAN                     by David Baldacci   \n37                        BOOK LOVERS                        by Emily Henry   \n38       PORTRAIT OF AN UNKNOWN WOMAN                       by Daniel Silva   \n39                 EVERY SUMMER AFTER                     by Carley Fortune   \n40                THE HOTEL NANTUCKET                   by Elin Hilderbrand   \n41                  ALL YOUR PERFECTS                     by Colleen Hoover   \n42                        THE IT GIRL                          by Ruth Ware   \n43                          SHATTERED  by James Patterson and James O. Born   \n44         PEOPLE WE MEET ON VACATION                        by Emily Henry   \n\n                                            cover_url  \n0   https://storage.googleapis.com/du-prd/books/im...  \n1   https://storage.googleapis.com/du-prd/books/im...  \n2   https://storage.googleapis.com/du-prd/books/im...  \n3   https://storage.googleapis.com/du-prd/books/im...  \n4   https://storage.googleapis.com/du-prd/books/im...  \n5   https://storage.googleapis.com/du-prd/books/im...  \n6   https://storage.googleapis.com/du-prd/books/im...  \n7   https://storage.googleapis.com/du-prd/books/im...  \n8   https://storage.googleapis.com/du-prd/books/im...  \n9   https://storage.googleapis.com/du-prd/books/im...  \n10  https://storage.googleapis.com/du-prd/books/im...  \n11  https://storage.googleapis.com/du-prd/books/im...  \n12  https://storage.googleapis.com/du-prd/books/im...  \n13  https://storage.googleapis.com/du-prd/books/im...  \n14  https://storage.googleapis.com/du-prd/books/im...  \n15  https://storage.googleapis.com/du-prd/books/im...  \n16  https://storage.googleapis.com/du-prd/books/im...  \n17  https://storage.googleapis.com/du-prd/books/im...  \n18  https://storage.googleapis.com/du-prd/books/im...  \n19  https://storage.googleapis.com/du-prd/books/im...  \n20  https://storage.googleapis.com/du-prd/books/im...  \n21  https://storage.googleapis.com/du-prd/books/im...  \n22  https://storage.googleapis.com/du-prd/books/im...  \n23  https://storage.googleapis.com/du-prd/books/im...  \n24  https://storage.googleapis.com/du-prd/books/im...  \n25  https://storage.googleapis.com/du-prd/books/im...  \n26  https://storage.googleapis.com/du-prd/books/im...  \n27  https://storage.googleapis.com/du-prd/books/im...  \n28  https://storage.googleapis.com/du-prd/books/im...  \n29  https://storage.googleapis.com/du-prd/books/im...  \n30  https://storage.googleapis.com/du-prd/books/im...  \n31  https://storage.googleapis.com/du-prd/books/im...  \n32  https://storage.googleapis.com/du-prd/books/im...  \n33  https://storage.googleapis.com/du-prd/books/im...  \n34  https://storage.googleapis.com/du-prd/books/im...  \n35  https://storage.googleapis.com/du-prd/books/im...  \n36  https://storage.googleapis.com/du-prd/books/im...  \n37  https://storage.googleapis.com/du-prd/books/im...  \n38  https://storage.googleapis.com/du-prd/books/im...  \n39  https://storage.googleapis.com/du-prd/books/im...  \n40  https://storage.googleapis.com/du-prd/books/im...  \n41  https://storage.googleapis.com/du-prd/books/im...  \n42  https://storage.googleapis.com/du-prd/books/im...  \n43  https://storage.googleapis.com/du-prd/books/im...  \n44  https://storage.googleapis.com/du-prd/books/im...  ",
            "text/html": "<div>\n<style scoped>\n    .dataframe tbody tr th:only-of-type {\n        vertical-align: middle;\n    }\n\n    .dataframe tbody tr th {\n        vertical-align: top;\n    }\n\n    .dataframe thead th {\n        text-align: right;\n    }\n</style>\n<table border=\"1\" class=\"dataframe\">\n  <thead>\n    <tr style=\"text-align: right;\">\n      <th></th>\n      <th>title</th>\n      <th>author</th>\n      <th>cover_url</th>\n    </tr>\n  </thead>\n  <tbody>\n    <tr>\n      <th>0</th>\n      <td>WHERE THE CRAWDADS SING</td>\n      <td>by Delia Owens</td>\n      <td>https://storage.googleapis.com/du-prd/books/im...</td>\n    </tr>\n    <tr>\n      <th>1</th>\n      <td>IT ENDS WITH US</td>\n      <td>by Colleen Hoover</td>\n      <td>https://storage.googleapis.com/du-prd/books/im...</td>\n    </tr>\n    <tr>\n      <th>2</th>\n      <td>VERITY</td>\n      <td>by Colleen Hoover</td>\n      <td>https://storage.googleapis.com/du-prd/books/im...</td>\n    </tr>\n    <tr>\n      <th>3</th>\n      <td>UGLY LOVE</td>\n      <td>by Colleen Hoover</td>\n      <td>https://storage.googleapis.com/du-prd/books/im...</td>\n    </tr>\n    <tr>\n      <th>4</th>\n      <td>THE SEVEN HUSBANDS OF EVELYN HUGO</td>\n      <td>by Taylor Jenkins Reid</td>\n      <td>https://storage.googleapis.com/du-prd/books/im...</td>\n    </tr>\n    <tr>\n      <th>5</th>\n      <td>NOVEMBER 9</td>\n      <td>by Colleen Hoover</td>\n      <td>https://storage.googleapis.com/du-prd/books/im...</td>\n    </tr>\n    <tr>\n      <th>6</th>\n      <td>ALL YOUR PERFECTS</td>\n      <td>by Colleen Hoover</td>\n      <td>https://storage.googleapis.com/du-prd/books/im...</td>\n    </tr>\n    <tr>\n      <th>7</th>\n      <td>THE 6:20 MAN</td>\n      <td>by David Baldacci</td>\n      <td>https://storage.googleapis.com/du-prd/books/im...</td>\n    </tr>\n    <tr>\n      <th>8</th>\n      <td>BOOK LOVERS</td>\n      <td>by Emily Henry</td>\n      <td>https://storage.googleapis.com/du-prd/books/im...</td>\n    </tr>\n    <tr>\n      <th>9</th>\n      <td>EVERY SUMMER AFTER</td>\n      <td>by Carley Fortune</td>\n      <td>https://storage.googleapis.com/du-prd/books/im...</td>\n    </tr>\n    <tr>\n      <th>10</th>\n      <td>PEOPLE WE MEET ON VACATION</td>\n      <td>by Emily Henry</td>\n      <td>https://storage.googleapis.com/du-prd/books/im...</td>\n    </tr>\n    <tr>\n      <th>11</th>\n      <td>HEAT 2</td>\n      <td>by Michael Mann and Meg Gardiner</td>\n      <td>https://storage.googleapis.com/du-prd/books/im...</td>\n    </tr>\n    <tr>\n      <th>12</th>\n      <td>THE SILENT PATIENT</td>\n      <td>by Alex Michaelides</td>\n      <td>https://storage.googleapis.com/du-prd/books/im...</td>\n    </tr>\n    <tr>\n      <th>13</th>\n      <td>MAYBE SOMEDAY</td>\n      <td>by Colleen Hoover</td>\n      <td>https://storage.googleapis.com/du-prd/books/im...</td>\n    </tr>\n    <tr>\n      <th>14</th>\n      <td>THE FAMILY REMAINS</td>\n      <td>by Lisa Jewell</td>\n      <td>https://storage.googleapis.com/du-prd/books/im...</td>\n    </tr>\n    <tr>\n      <th>15</th>\n      <td>WHERE THE CRAWDADS SING</td>\n      <td>by Delia Owens</td>\n      <td>https://storage.googleapis.com/du-prd/books/im...</td>\n    </tr>\n    <tr>\n      <th>16</th>\n      <td>IT ENDS WITH US</td>\n      <td>by Colleen Hoover</td>\n      <td>https://storage.googleapis.com/du-prd/books/im...</td>\n    </tr>\n    <tr>\n      <th>17</th>\n      <td>VERITY</td>\n      <td>by Colleen Hoover</td>\n      <td>https://storage.googleapis.com/du-prd/books/im...</td>\n    </tr>\n    <tr>\n      <th>18</th>\n      <td>UGLY LOVE</td>\n      <td>by Colleen Hoover</td>\n      <td>https://storage.googleapis.com/du-prd/books/im...</td>\n    </tr>\n    <tr>\n      <th>19</th>\n      <td>THE SEVEN HUSBANDS OF EVELYN HUGO</td>\n      <td>by Taylor Jenkins Reid</td>\n      <td>https://storage.googleapis.com/du-prd/books/im...</td>\n    </tr>\n    <tr>\n      <th>20</th>\n      <td>NOVEMBER 9</td>\n      <td>by Colleen Hoover</td>\n      <td>https://storage.googleapis.com/du-prd/books/im...</td>\n    </tr>\n    <tr>\n      <th>21</th>\n      <td>RECKONING</td>\n      <td>by Catherine Coulter</td>\n      <td>https://storage.googleapis.com/du-prd/books/im...</td>\n    </tr>\n    <tr>\n      <th>22</th>\n      <td>THE 6:20 MAN</td>\n      <td>by David Baldacci</td>\n      <td>https://storage.googleapis.com/du-prd/books/im...</td>\n    </tr>\n    <tr>\n      <th>23</th>\n      <td>EVERY SUMMER AFTER</td>\n      <td>by Carley Fortune</td>\n      <td>https://storage.googleapis.com/du-prd/books/im...</td>\n    </tr>\n    <tr>\n      <th>24</th>\n      <td>BLACK DOG</td>\n      <td>by Stuart Woods</td>\n      <td>https://storage.googleapis.com/du-prd/books/im...</td>\n    </tr>\n    <tr>\n      <th>25</th>\n      <td>ALL YOUR PERFECTS</td>\n      <td>by Colleen Hoover</td>\n      <td>https://storage.googleapis.com/du-prd/books/im...</td>\n    </tr>\n    <tr>\n      <th>26</th>\n      <td>BOOK LOVERS</td>\n      <td>by Emily Henry</td>\n      <td>https://storage.googleapis.com/du-prd/books/im...</td>\n    </tr>\n    <tr>\n      <th>27</th>\n      <td>PORTRAIT OF AN UNKNOWN WOMAN</td>\n      <td>by Daniel Silva</td>\n      <td>https://storage.googleapis.com/du-prd/books/im...</td>\n    </tr>\n    <tr>\n      <th>28</th>\n      <td>CONFESS</td>\n      <td>by Colleen Hoover</td>\n      <td>https://storage.googleapis.com/du-prd/books/im...</td>\n    </tr>\n    <tr>\n      <th>29</th>\n      <td>THE SILENT PATIENT</td>\n      <td>by Alex Michaelides</td>\n      <td>https://storage.googleapis.com/du-prd/books/im...</td>\n    </tr>\n    <tr>\n      <th>30</th>\n      <td>WHERE THE CRAWDADS SING</td>\n      <td>by Delia Owens</td>\n      <td>https://storage.googleapis.com/du-prd/books/im...</td>\n    </tr>\n    <tr>\n      <th>31</th>\n      <td>IT ENDS WITH US</td>\n      <td>by Colleen Hoover</td>\n      <td>https://storage.googleapis.com/du-prd/books/im...</td>\n    </tr>\n    <tr>\n      <th>32</th>\n      <td>VERITY</td>\n      <td>by Colleen Hoover</td>\n      <td>https://storage.googleapis.com/du-prd/books/im...</td>\n    </tr>\n    <tr>\n      <th>33</th>\n      <td>UGLY LOVE</td>\n      <td>by Colleen Hoover</td>\n      <td>https://storage.googleapis.com/du-prd/books/im...</td>\n    </tr>\n    <tr>\n      <th>34</th>\n      <td>THE SEVEN HUSBANDS OF EVELYN HUGO</td>\n      <td>by Taylor Jenkins Reid</td>\n      <td>https://storage.googleapis.com/du-prd/books/im...</td>\n    </tr>\n    <tr>\n      <th>35</th>\n      <td>NOVEMBER 9</td>\n      <td>by Colleen Hoover</td>\n      <td>https://storage.googleapis.com/du-prd/books/im...</td>\n    </tr>\n    <tr>\n      <th>36</th>\n      <td>THE 6:20 MAN</td>\n      <td>by David Baldacci</td>\n      <td>https://storage.googleapis.com/du-prd/books/im...</td>\n    </tr>\n    <tr>\n      <th>37</th>\n      <td>BOOK LOVERS</td>\n      <td>by Emily Henry</td>\n      <td>https://storage.googleapis.com/du-prd/books/im...</td>\n    </tr>\n    <tr>\n      <th>38</th>\n      <td>PORTRAIT OF AN UNKNOWN WOMAN</td>\n      <td>by Daniel Silva</td>\n      <td>https://storage.googleapis.com/du-prd/books/im...</td>\n    </tr>\n    <tr>\n      <th>39</th>\n      <td>EVERY SUMMER AFTER</td>\n      <td>by Carley Fortune</td>\n      <td>https://storage.googleapis.com/du-prd/books/im...</td>\n    </tr>\n    <tr>\n      <th>40</th>\n      <td>THE HOTEL NANTUCKET</td>\n      <td>by Elin Hilderbrand</td>\n      <td>https://storage.googleapis.com/du-prd/books/im...</td>\n    </tr>\n    <tr>\n      <th>41</th>\n      <td>ALL YOUR PERFECTS</td>\n      <td>by Colleen Hoover</td>\n      <td>https://storage.googleapis.com/du-prd/books/im...</td>\n    </tr>\n    <tr>\n      <th>42</th>\n      <td>THE IT GIRL</td>\n      <td>by Ruth Ware</td>\n      <td>https://storage.googleapis.com/du-prd/books/im...</td>\n    </tr>\n    <tr>\n      <th>43</th>\n      <td>SHATTERED</td>\n      <td>by James Patterson and James O. Born</td>\n      <td>https://storage.googleapis.com/du-prd/books/im...</td>\n    </tr>\n    <tr>\n      <th>44</th>\n      <td>PEOPLE WE MEET ON VACATION</td>\n      <td>by Emily Henry</td>\n      <td>https://storage.googleapis.com/du-prd/books/im...</td>\n    </tr>\n  </tbody>\n</table>\n</div>"
          },
          "metadata": {}
        }
      ]
    },
    {
      "cell_type": "markdown",
      "source": "...continue the eda",
      "metadata": {}
    },
    {
      "cell_type": "code",
      "source": "",
      "metadata": {},
      "execution_count": null,
      "outputs": []
    }
  ]
}